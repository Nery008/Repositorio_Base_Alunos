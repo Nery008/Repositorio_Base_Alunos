{
 "cells": [
  {
   "cell_type": "code",
   "execution_count": null,
   "id": "98487228",
   "metadata": {},
   "outputs": [],
   "source": [
    "# Criar o banco de dados\n",
    "produto = 'produtos.db'\n"
   ]
  },
  {
   "cell_type": "code",
   "execution_count": null,
   "id": "997b0a9a",
   "metadata": {},
   "outputs": [],
   "source": [
    "# Criar tabelas\n",
    "script_produtos = '''\n",
    "CREATE TABLE IF NOT EXISTS Produtos(\n",
    "    id INTEGER PRIMARY KEY AUTOINCREMENT,\n",
    "    nome TEXT NOT NULL,\n",
    "    preco REAL NOT NULL,\n",
    "    categoria TEXT NOT NULL,\n",
    "    estoque INTEGER NOT NULL\n",
    ");\n",
    "'''\n",
    "\n",
    "try:\n",
    "    with sqlite3.connect(produto) as con:\n",
    "        # Criar um cursor\n",
    "        cur = con.cursor()\n",
    "\n",
    "        # Executar o script\n",
    "        cur.execute(script_produtos)\n",
    "\n",
    "        # Salvar as alterações no banco de dados\n",
    "        con.commit()\n",
    "        print('Tabela criada com sucesso!')\n",
    "except sqlite3.OperationalError as e:\n",
    "    print('Erro:', e)"
   ]
  },
  {
   "cell_type": "code",
   "execution_count": null,
   "id": "7c88a337",
   "metadata": {},
   "outputs": [],
   "source": [
    "# Verificar se a tabela foi criada\n",
    "res = cur.execute('SELECT name FROM sqlite_master')\n",
    "print(res.fetchall())  # retorna uma linha do resultado obtido, tabela\n",
    "# resultado vem no formato de tupla\n"
   ]
  },
  {
   "cell_type": "code",
   "execution_count": null,
   "id": "cf935dec",
   "metadata": {},
   "outputs": [],
   "source": [
    "sql = 'SELECT * FROM Produtos'  # criamos o comando de selecionar tudo\n",
    "\n",
    "try:\n",
    "    with sqlite3.connect(produto) as con:\n",
    "        # Criar um cursor\n",
    "        cur = con.cursor()\n",
    "        # Executar o script\n",
    "        cur.execute(sql)\n",
    "        res = cur.fetchall()  # retorna uma lista de listas\n",
    "        print(res)\n",
    "except sqlite3.OperationalError as e:\n",
    "    print('Erro:', e)\n"
   ]
  },
  {
   "cell_type": "markdown",
   "id": "9b644e45",
   "metadata": {},
   "source": [
    "# Inserir dados"
   ]
  },
  {
   "cell_type": "code",
   "execution_count": null,
   "id": "f4be24b2",
   "metadata": {},
   "outputs": [],
   "source": [
    "sql = 'INSERT INTO Produtos (nome, preco, categoria, estoque) VALUES (?, ?, ?, ?)'\n",
    "\n",
    "try:\n",
    "    with sqlite3.connect(produto) as con:\n",
    "        cur = con.cursor()\n",
    "        cur.execute(sql, ('Notebook Dell', 2500.00, 'Eletrônicos', 15))\n",
    "        con.commit()  # para salvar as alterações no banco de dados\n",
    "except sqlite3.OperationalError as e:\n",
    "    print('Erro:', e)\n"
   ]
  },
  {
   "cell_type": "markdown",
   "id": "c894d03d",
   "metadata": {},
   "source": [
    "# Inserir vários dados"
   ]
  },
  {
   "cell_type": "code",
   "execution_count": null,
   "id": "bfdc032c",
   "metadata": {},
   "outputs": [],
   "source": [
    "# Lista de produtos para inserir\n",
    "produtos = [\n",
    "    ('Notebook', 3500.00, 'Eletrônicos', 10),\n",
    "    ('Smartphone', 2200.00, 'Eletrônicos', 15),\n",
    "    ('Geladeira', 4800.00, 'Eletrodomésticos', 5),\n",
    "    ('Camisetas', 59.90, 'Vestuário', 50),\n",
    "    ('Cafeteira', 320.00, 'Eletrodomésticos', 8)\n",
    "]\n",
    "\n",
    "try:\n",
    "    with sqlite3.connect(produto) as con:\n",
    "        cur = con.cursor()\n",
    "        cur.executemany('INSERT INTO Produtos (nome, preco, categoria, estoque) VALUES (?, ?, ?, ?)', produtos)\n",
    "        con.commit()  # para salvar as alterações no banco de dados\n",
    "        print('Produtos inseridos com sucesso!')\n",
    "except sqlite3.OperationalError as e:\n",
    "    print('Erro:', e)\n"
   ]
  },
  {
   "cell_type": "code",
   "execution_count": null,
   "id": "fadecf16",
   "metadata": {},
   "outputs": [],
   "source": [
    "# Para verificar se os dados foram inseridos corretamente\n",
    "res = cur.execute('SELECT nome FROM produtos')\n",
    "res.fetchall()\n"
   ]
  },
  {
   "cell_type": "code",
   "execution_count": null,
   "id": "6dc8bb9e",
   "metadata": {},
   "outputs": [],
   "source": [
    "# Outra maneira para verificar se os dados foram inseridos\n",
    "for linha in cur.execute('SELECT nome, preco FROM Produtos ORDER BY nome'):\n",
    "    print(linha)\n"
   ]
  },
  {
   "cell_type": "markdown",
   "id": "b55c9982",
   "metadata": {},
   "source": [
    "# Atualizar um registro"
   ]
  },
  {
   "cell_type": "code",
   "execution_count": null,
   "id": "1169bbef",
   "metadata": {},
   "outputs": [],
   "source": [
    "sql = 'UPDATE Produtos SET preco = ? WHERE id = ?'\n",
    "\n",
    "try:\n",
    "    with sqlite3.connect(produto) as con:\n",
    "        cur = con.cursor()\n",
    "        cur.execute(sql, (3700.00, 1))\n",
    "        con.commit()  # para salvar as alterações no banco de dados\n",
    "except sqlite3.OperationalError as e:\n",
    "    print('Erro:', e)\n"
   ]
  },
  {
   "cell_type": "markdown",
   "id": "6732dbb8",
   "metadata": {},
   "source": [
    "# Deletar registro"
   ]
  },
  {
   "cell_type": "code",
   "execution_count": null,
   "id": "c8057f1f",
   "metadata": {},
   "outputs": [],
   "source": [
    "sql = 'DELETE FROM Produtos WHERE id = ?'\n",
    "\n",
    "try:\n",
    "    with sqlite3.connect(produto) as con:\n",
    "        cur = con.cursor()\n",
    "        cur.execute(sql, (1,))\n",
    "        con.commit()  # para salvar as alterações no banco de dados\n",
    "except sqlite3.OperationalError as e:\n",
    "    print('Erro:', e)\n"
   ]
  },
  {
   "cell_type": "code",
   "execution_count": null,
   "id": "ce051634",
   "metadata": {},
   "outputs": [],
   "source": [
    "# Fechar conexão. Após concluir precisamos fechar a conexão com o banco de dados\n",
    "con.close()\n"
   ]
  }
 ],
 "metadata": {
  "kernelspec": {
   "display_name": ".venv (3.13.2)",
   "language": "python",
   "name": "python3"
  },
  "language_info": {
   "name": "python",
   "version": "3.13.2"
  }
 },
 "nbformat": 4,
 "nbformat_minor": 5
}
