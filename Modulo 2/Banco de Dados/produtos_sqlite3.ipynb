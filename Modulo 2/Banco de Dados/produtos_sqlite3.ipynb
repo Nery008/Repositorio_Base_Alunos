{
 "cells": [
  {
   "cell_type": "code",
   "execution_count": null,
   "id": "c9049260",
   "metadata": {},
   "outputs": [],
   "source": [
    "import sqlite3"
   ]
  },
  {
   "cell_type": "code",
   "execution_count": null,
   "id": "bd54f3ed",
   "metadata": {},
   "outputs": [],
   "source": [
    "produto = 'produtos.db'"
   ]
  },
  {
   "cell_type": "code",
   "execution_count": null,
   "id": "371afc10",
   "metadata": {},
   "outputs": [],
   "source": [
    "# Criar tabela"
   ]
  },
  {
   "cell_type": "code",
   "execution_count": null,
   "id": "efe6eb1b",
   "metadata": {},
   "outputs": [],
   "source": [
    "# Criamos uma tabela chamada Produtos que está armazenada na variável script_produtos\n",
    "# A tabela produtos tem os seguintes campos id, nome, preco, categoria e estoque\n",
    "# Após o nome da categoria adicionamos o tipo do dado, se é chave primária, autoincremento e se é obrigatório\n",
    "script_produtos = '''\n",
    "CREATE TABLE IF NOT EXISTS Produtos(\n",
    "    id INTEGER PRIMARY KEY AUTOINCREMENT,\n",
    "    nome TEXT NOT NULL,\n",
    "    preco REAL NOT NULL,\n",
    "    categoria TEXT NOT NULL,\n",
    "    estoque INTEGER NOT NULL\n",
    ");\n",
    "'''\n",
    "\n",
    "try:\n",
    "    with sqlite3.connect('produto.db') as con:  # cria/conecta ao banco de dados\n",
    "        # Criar um cursor\n",
    "        cur = con.cursor()\n",
    "\n",
    "        # Executar o script de criação da tabela\n",
    "        cur.execute(script_produtos)\n",
    "\n",
    "        # Salvar as alterações no banco de dados\n",
    "        con.commit()\n",
    "        print('Tabela criada com sucesso!')\n",
    "\n",
    "except sqlite3.OperationalError as e:\n",
    "    print('Erro:', e)\n",
    "\n"
   ]
  }
 ],
 "metadata": {
  "kernelspec": {
   "display_name": ".venv (3.13.2)",
   "language": "python",
   "name": "python3"
  },
  "language_info": {
   "name": "python",
   "version": "3.13.2"
  }
 },
 "nbformat": 4,
 "nbformat_minor": 5
}
